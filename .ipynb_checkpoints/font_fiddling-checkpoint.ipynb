{
 "cells": [
  {
   "cell_type": "code",
   "execution_count": 1,
   "metadata": {},
   "outputs": [
    {
     "name": "stdout",
     "output_type": "stream",
     "text": [
      "Setting up loggers....\n",
      "Main.Test.MainThread PID: 7077  - INFO - Logging Active\n",
      "done\n"
     ]
    }
   ],
   "source": [
    "\n",
    "import logSetup\n",
    "logSetup.initLogging(1)\n",
    "\n",
    "import bs4\n",
    "import copy\n",
    "import re\n",
    "import time\n",
    "import urllib.parse\n",
    "import os.path\n",
    "import os\n",
    "\n",
    "import webcolors\n",
    "from fontTools.ttLib import TTFont\n",
    "import fontTools.ttLib.tables._g_l_y_f as g_l_y_f\n",
    "\n",
    "import tinycss2\n",
    "import bs4\n",
    "\n",
    "import itertools\n",
    "import code\n",
    "import io\n",
    "import sys\n",
    "from fontTools.ttLib import TTFont\n",
    "from reportlab.lib import colors\n",
    "from fontTools.pens.reportLabPen import ReportLabPen, Path\n",
    "\n",
    "from reportlab.graphics import renderPM\n",
    "from reportlab.graphics.shapes import Group, Drawing, scale\n",
    "import tqdm\n",
    "from IPython.display import Image \n",
    "import pytesseract"
   ]
  },
  {
   "cell_type": "code",
   "execution_count": 3,
   "metadata": {},
   "outputs": [
    {
     "name": "stdout",
     "output_type": "stream",
     "text": [
      "<fontTools.ttLib.ttFont.TTFont object at 0x7f9ea00abc88>\n",
      "<fontTools.ttLib.ttFont.TTFont object at 0x7f9ea00abba8>\n"
     ]
    }
   ],
   "source": [
    "with open(\"/media/Storage/Scripts/ReadableWebProxy/WebMirror/processor/fonts/42a38ad215ab716a45257eec057d15748f829ec44d6e17d0c8b41aa1fb42a4f4.woff\", \"rb\") as fp:\n",
    "    bad = TTFont(fp)\n",
    "with open(\"/media/Storage/Scripts/ReadableWebProxy/WebMirror/processor/fonts/OpenSans-Regular.woff\", \"rb\") as fp:\n",
    "    ok1 = TTFont(fp)\n",
    "\n",
    "print(bad)\n",
    "print(ok1)\n"
   ]
  },
  {
   "cell_type": "code",
   "execution_count": 4,
   "metadata": {},
   "outputs": [],
   "source": [
    "\n",
    "gs = bad.getGlyphSet()\n",
    "\n",
    "\n",
    "\n",
    "def flatten_coords(in_coords):\n",
    "\tif isinstance(in_coords, g_l_y_f.GlyphComponent):\n",
    "\t\treturn in_coords.getComponentInfo()\n",
    "\telif hasattr(in_coords, \"coordinates\"):\n",
    "\t\tret = list(in_coords.coordinates)\n",
    "\t\tret.sort()\n",
    "\t\treturn tuple(ret)\n",
    "\telif hasattr(in_coords, \"components\"):\n",
    "\t\tret = [flatten_coords(tmp) for tmp in in_coords.components]\n",
    "\t\tret.sort()\n",
    "\t\treturn tuple(ret)\n",
    "\telif isinstance(in_coords, list):\n",
    "\t\tret = [flatten_coords(subitem for subitem in in_coords)]\n",
    "\t\tret.sort()\n",
    "\t\treturn tuple(ret)\n",
    "\telif hasattr(in_coords, \"numberOfContours\") and in_coords.numberOfContours == 0:\n",
    "\t\treturn tuple()\n",
    "\telse:\n",
    "\t\tprint(\"Wat: \", type(in_coords), in_coords)\n",
    "\t\treturn tuple()\n",
    "\n"
   ]
  },
  {
   "cell_type": "code",
   "execution_count": 5,
   "metadata": {},
   "outputs": [
    {
     "name": "stderr",
     "output_type": "stream",
     "text": [
      "100%|██████████| 58/58 [00:30<00:00,  1.92it/s]\n"
     ]
    }
   ],
   "source": [
    "\n",
    "images = []\n",
    "\n",
    "for glyphName in tqdm.tqdm(gs.keys()):\n",
    "\timageFile = \"%s.png\" % glyphName\n",
    "\n",
    "\tpen = ReportLabPen(gs, Path(fillColor=colors.black, strokeWidth=5))\n",
    "\n",
    "\tg = gs[glyphName]\n",
    "\tg.draw(pen)\n",
    "\t\n",
    "\t\n",
    "\tw, h = g.width, 2000\n",
    "\n",
    "\t# Everything is wrapped in a group to allow transformations.\n",
    "\tg = Group(pen.path)\n",
    "\t\n",
    "\tg.translate(w*0.05, h*0.25)\n",
    "\tg.scale(0.9, 0.9)\n",
    "\t\n",
    "\td = Drawing(w, h)\n",
    "\td.add(g)\n",
    "\n",
    "\trenderPM.drawToFile(d, imageFile, fmt=\"PNG\")\n",
    "\t\n",
    "\tim = renderPM.drawToPILP(d)\n",
    "\timages.append((im, glyphName, gs[glyphName]))\n",
    "\t"
   ]
  },
  {
   "cell_type": "code",
   "execution_count": 6,
   "metadata": {
    "scrolled": false
   },
   "outputs": [
    {
     "name": "stdout",
     "output_type": "stream",
     "text": [
      "Result: for glyph00000 -> ''\n"
     ]
    },
    {
     "data": {
      "image/png": "[encoded data removed]",
      "text/plain": [
       "<PIL.Image.Image image mode=P size=122x200 at 0x7F9EA0022CF8>"
      ]
     },
     "metadata": {},
     "output_type": "display_data"
    },
    {
     "name": "stdout",
     "output_type": "stream",
     "text": [
      "----------------------------------------\n",
      "Result: for glyph00001 -> 'e'\n"
     ]
    },
    {
     "data": {
      "image/png": "[encoded data removed]",
      "text/plain": [
       "<PIL.Image.Image image mode=P size=114x200 at 0x7F9EA0022CF8>"
      ]
     },
     "metadata": {},
     "output_type": "display_data"
    },
    {
     "name": "stdout",
     "output_type": "stream",
     "text": [
      "----------------------------------------\n",
      "Result: for glyph00002 -> 't'\n"
     ]
    },
    {
     "data": {
      "image/png": "[encoded data removed]",
      "text/plain": [
       "<PIL.Image.Image image mode=P size=72x200 at 0x7F9EA0022CF8>"
      ]
     },
     "metadata": {},
     "output_type": "display_data"
    },
    {
     "name": "stdout",
     "output_type": "stream",
     "text": [
      "----------------------------------------\n",
      "Result: for glyph00003 -> 'a'\n"
     ]
    },
    {
     "data": {
      "image/png": "[encoded data removed]",
      "text/plain": [
       "<PIL.Image.Image image mode=P size=122x200 at 0x7F9EA0022CF8>"
      ]
     },
     "metadata": {},
     "output_type": "display_data"
    },
    {
     "name": "stdout",
     "output_type": "stream",
     "text": [
      "----------------------------------------\n",
      "Result: for glyph00004 -> ''\n"
     ]
    },
    {
     "data": {
      "image/png": "[encoded data removed]",
      "text/plain": [
       "<PIL.Image.Image image mode=P size=123x200 at 0x7F9EA0022CF8>"
      ]
     },
     "metadata": {},
     "output_type": "display_data"
    },
    {
     "name": "stdout",
     "output_type": "stream",
     "text": [
      "----------------------------------------\n",
      "Result: for glyph00005 -> 'n'\n"
     ]
    },
    {
     "data": {
      "image/png": "[encoded data removed]",
      "text/plain": [
       "<PIL.Image.Image image mode=P size=125x200 at 0x7F9EA0022CF8>"
      ]
     },
     "metadata": {},
     "output_type": "display_data"
    },
    {
     "name": "stdout",
     "output_type": "stream",
     "text": [
      "----------------------------------------\n",
      "Result: for glyph00006 -> ''\n"
     ]
    },
    {
     "data": {
      "image/png": "[encoded data removed]",
      "text/plain": [
       "<PIL.Image.Image image mode=P size=51x200 at 0x7F9EA0022CF8>"
      ]
     },
     "metadata": {},
     "output_type": "display_data"
    },
    {
     "name": "stdout",
     "output_type": "stream",
     "text": [
      "----------------------------------------\n",
      "Result: for glyph00007 -> 'S'\n"
     ]
    },
    {
     "data": {
      "image/png": "[encoded data removed]",
      "text/plain": [
       "<PIL.Image.Image image mode=P size=97x200 at 0x7F9EA0022CF8>"
      ]
     },
     "metadata": {},
     "output_type": "display_data"
    },
    {
     "name": "stdout",
     "output_type": "stream",
     "text": [
      "----------------------------------------\n",
      "Result: for glyph00008 -> 'h'\n"
     ]
    },
    {
     "data": {
      "image/png": "[encoded data removed]",
      "text/plain": [
       "<PIL.Image.Image image mode=P size=125x200 at 0x7F9EA0022CF8>"
      ]
     },
     "metadata": {},
     "output_type": "display_data"
    },
    {
     "name": "stdout",
     "output_type": "stream",
     "text": [
      "----------------------------------------\n",
      "Result: for glyph00009 -> 'r'\n"
     ]
    },
    {
     "data": {
      "image/png": "[encoded data removed]",
      "text/plain": [
       "<PIL.Image.Image image mode=P size=83x200 at 0x7F9EA0022CF8>"
      ]
     },
     "metadata": {},
     "output_type": "display_data"
    },
    {
     "name": "stdout",
     "output_type": "stream",
     "text": [
      "----------------------------------------\n",
      "Result: for glyph00010 -> ''\n"
     ]
    },
    {
     "data": {
      "image/png": "[encoded data removed]",
      "text/plain": [
       "<PIL.Image.Image image mode=P size=51x200 at 0x7F9EA0022CF8>"
      ]
     },
     "metadata": {},
     "output_type": "display_data"
    },
    {
     "name": "stdout",
     "output_type": "stream",
     "text": [
      "----------------------------------------\n",
      "Result: for glyph00011 -> 'd'\n"
     ]
    },
    {
     "data": {
      "image/png": "[encoded data removed]",
      "text/plain": [
       "<PIL.Image.Image image mode=P size=125x200 at 0x7F9EA0022CF8>"
      ]
     },
     "metadata": {},
     "output_type": "display_data"
    },
    {
     "name": "stdout",
     "output_type": "stream",
     "text": [
      "----------------------------------------\n",
      "Result: for glyph00012 -> 'U'\n"
     ]
    },
    {
     "data": {
      "image/png": "[encoded data removed]",
      "text/plain": [
       "<PIL.Image.Image image mode=P size=125x200 at 0x7F9EA0022CF8>"
      ]
     },
     "metadata": {},
     "output_type": "display_data"
    },
    {
     "name": "stdout",
     "output_type": "stream",
     "text": [
      "----------------------------------------\n",
      "Result: for glyph00013 -> 'm'\n"
     ]
    },
    {
     "data": {
      "image/png": "[encoded data removed]",
      "text/plain": [
       "<PIL.Image.Image image mode=P size=190x200 at 0x7F9EA0022CF8>"
      ]
     },
     "metadata": {},
     "output_type": "display_data"
    },
    {
     "name": "stdout",
     "output_type": "stream",
     "text": [
      "----------------------------------------\n",
      "Result: for glyph00014 -> 'g'\n"
     ]
    },
    {
     "data": {
      "image/png": "[encoded data removed]",
      "text/plain": [
       "<PIL.Image.Image image mode=P size=112x200 at 0x7F9EA0022CF8>"
      ]
     },
     "metadata": {},
     "output_type": "display_data"
    },
    {
     "name": "stdout",
     "output_type": "stream",
     "text": [
      "----------------------------------------\n",
      "Result: for glyph00015 -> 'y'\n"
     ]
    },
    {
     "data": {
      "image/png": "[encoded data removed]",
      "text/plain": [
       "<PIL.Image.Image image mode=P size=103x200 at 0x7F9EAC27D390>"
      ]
     },
     "metadata": {},
     "output_type": "display_data"
    },
    {
     "name": "stdout",
     "output_type": "stream",
     "text": [
      "----------------------------------------\n",
      "Result: for glyph00016 -> 'C'\n"
     ]
    },
    {
     "data": {
      "image/png": "[encoded data removed]",
      "text/plain": [
       "<PIL.Image.Image image mode=P size=97x200 at 0x7F9EAC27D390>"
      ]
     },
     "metadata": {},
     "output_type": "display_data"
    },
    {
     "name": "stdout",
     "output_type": "stream",
     "text": [
      "----------------------------------------\n",
      "Result: for glyph00017 -> 'f'\n"
     ]
    },
    {
     "data": {
      "image/png": "[encoded data removed]",
      "text/plain": [
       "<PIL.Image.Image image mode=P size=69x200 at 0x7F9EA0022CF8>"
      ]
     },
     "metadata": {},
     "output_type": "display_data"
    },
    {
     "name": "stdout",
     "output_type": "stream",
     "text": [
      "----------------------------------------\n",
      "Result: for glyph00018 -> 'W'\n"
     ]
    },
    {
     "data": {
      "image/png": "[encoded data removed]",
      "text/plain": [
       "<PIL.Image.Image image mode=P size=159x200 at 0x7F9EA0022CF8>"
      ]
     },
     "metadata": {},
     "output_type": "display_data"
    },
    {
     "name": "stdout",
     "output_type": "stream",
     "text": [
      "----------------------------------------\n",
      "Result: for glyph00019 -> 'P'\n"
     ]
    },
    {
     "data": {
      "image/png": "[encoded data removed]",
      "text/plain": [
       "<PIL.Image.Image image mode=P size=125x200 at 0x7F9EA0022CF8>"
      ]
     },
     "metadata": {},
     "output_type": "display_data"
    },
    {
     "name": "stdout",
     "output_type": "stream",
     "text": [
      "----------------------------------------\n",
      "Result: for glyph00020 -> ''\n"
     ]
    },
    {
     "data": {
      "image/png": "[encoded data removed]",
      "text/plain": [
       "<PIL.Image.Image image mode=P size=54x200 at 0x7F9EAC27D390>"
      ]
     },
     "metadata": {},
     "output_type": "display_data"
    },
    {
     "name": "stdout",
     "output_type": "stream",
     "text": [
      "----------------------------------------\n",
      "Result: for glyph00021 -> 'b'\n"
     ]
    },
    {
     "data": {
      "image/png": "[encoded data removed]",
      "text/plain": [
       "<PIL.Image.Image image mode=P size=125x200 at 0x7F9EA0022CF8>"
      ]
     },
     "metadata": {},
     "output_type": "display_data"
    },
    {
     "name": "stdout",
     "output_type": "stream",
     "text": [
      "----------------------------------------\n",
      "Result: for glyph00022 -> 'I'\n"
     ]
    },
    {
     "data": {
      "image/png": "[encoded data removed]",
      "text/plain": [
       "<PIL.Image.Image image mode=P size=50x200 at 0x7F9EAC27D390>"
      ]
     },
     "metadata": {},
     "output_type": "display_data"
    },
    {
     "name": "stdout",
     "output_type": "stream",
     "text": [
      "----------------------------------------\n",
      "Result: for glyph00023 -> 'k'\n"
     ]
    },
    {
     "data": {
      "image/png": "[encoded data removed]",
      "text/plain": [
       "<PIL.Image.Image image mode=P size=107x200 at 0x7F9EA0022CF8>"
      ]
     },
     "metadata": {},
     "output_type": "display_data"
    },
    {
     "name": "stdout",
     "output_type": "stream",
     "text": [
      "----------------------------------------\n",
      "Result: for glyph00024 -> 'V'\n"
     ]
    },
    {
     "data": {
      "image/png": "[encoded data removed]",
      "text/plain": [
       "<PIL.Image.Image image mode=P size=102x200 at 0x7F9EAC27D390>"
      ]
     },
     "metadata": {},
     "output_type": "display_data"
    },
    {
     "name": "stdout",
     "output_type": "stream",
     "text": [
      "----------------------------------------\n",
      "Result: for glyph00025 -> 'C'\n"
     ]
    },
    {
     "data": {
      "image/png": "[encoded data removed]",
      "text/plain": [
       "<PIL.Image.Image image mode=P size=129x200 at 0x7F9EAC27D390>"
      ]
     },
     "metadata": {},
     "output_type": "display_data"
    },
    {
     "name": "stdout",
     "output_type": "stream",
     "text": [
      "----------------------------------------\n",
      "Result: for glyph00026 -> ''\n"
     ]
    },
    {
     "data": {
      "image/png": "[encoded data removed]",
      "text/plain": [
       "<PIL.Image.Image image mode=P size=82x200 at 0x7F9EA0022CF8>"
      ]
     },
     "metadata": {},
     "output_type": "display_data"
    },
    {
     "name": "stdout",
     "output_type": "stream",
     "text": [
      "----------------------------------------\n",
      "Result: for glyph00027 -> 'T'\n"
     ]
    },
    {
     "data": {
      "image/png": "[encoded data removed]",
      "text/plain": [
       "<PIL.Image.Image image mode=P size=113x200 at 0x7F9EAC27D390>"
      ]
     },
     "metadata": {},
     "output_type": "display_data"
    },
    {
     "name": "stdout",
     "output_type": "stream",
     "text": [
      "----------------------------------------\n",
      "Result: for glyph00028 -> 'D'\n"
     ]
    },
    {
     "data": {
      "image/png": "[encoded data removed]",
      "text/plain": [
       "<PIL.Image.Image image mode=P size=149x200 at 0x7F9EA0022CF8>"
      ]
     },
     "metadata": {},
     "output_type": "display_data"
    },
    {
     "name": "stdout",
     "output_type": "stream",
     "text": [
      "----------------------------------------\n",
      "Result: for glyph00029 -> 'Z'\n"
     ]
    },
    {
     "data": {
      "image/png": "[encoded data removed]",
      "text/plain": [
       "<PIL.Image.Image image mode=P size=116x200 at 0x7F9EAC27D390>"
      ]
     },
     "metadata": {},
     "output_type": "display_data"
    },
    {
     "name": "stdout",
     "output_type": "stream",
     "text": [
      "----------------------------------------\n",
      "Result: for glyph00030 -> ''\n"
     ]
    },
    {
     "data": {
      "image/png": "[encoded data removed]",
      "text/plain": [
       "<PIL.Image.Image image mode=P size=57x200 at 0x7F9EAC27D390>"
      ]
     },
     "metadata": {},
     "output_type": "display_data"
    },
    {
     "name": "stdout",
     "output_type": "stream",
     "text": [
      "----------------------------------------\n",
      "Result: for glyph00031 -> ''\n"
     ]
    },
    {
     "data": {
      "image/png": "[encoded data removed]",
      "text/plain": [
       "<PIL.Image.Image image mode=P size=45x200 at 0x7F9EAC27D390>"
      ]
     },
     "metadata": {},
     "output_type": "display_data"
    },
    {
     "name": "stdout",
     "output_type": "stream",
     "text": [
      "----------------------------------------\n",
      "Result: for glyph00032 -> 'q'\n"
     ]
    },
    {
     "data": {
      "image/png": "[encoded data removed]",
      "text/plain": [
       "<PIL.Image.Image image mode=P size=125x200 at 0x7F9EAC27D390>"
      ]
     },
     "metadata": {},
     "output_type": "display_data"
    },
    {
     "name": "stdout",
     "output_type": "stream",
     "text": [
      "----------------------------------------\n",
      "Result: for glyph00033 -> 'N'\n"
     ]
    },
    {
     "data": {
      "image/png": "[encoded data removed]",
      "text/plain": [
       "<PIL.Image.Image image mode=P size=154x200 at 0x7F9EAC27D390>"
      ]
     },
     "metadata": {},
     "output_type": "display_data"
    },
    {
     "name": "stdout",
     "output_type": "stream",
     "text": [
      "----------------------------------------\n",
      "Result: for glyph00034 -> 'M'\n"
     ]
    },
    {
     "data": {
      "image/png": "[encoded data removed]",
      "text/plain": [
       "<PIL.Image.Image image mode=P size=184x200 at 0x7F9EAC27D390>"
      ]
     },
     "metadata": {},
     "output_type": "display_data"
    },
    {
     "name": "stdout",
     "output_type": "stream",
     "text": [
      "----------------------------------------\n",
      "Result: for glyph00035 -> ''\n"
     ]
    },
    {
     "data": {
      "image/png": "[encoded data removed]",
      "text/plain": [
       "<PIL.Image.Image image mode=P size=129x200 at 0x7F9EAC27D390>"
      ]
     },
     "metadata": {},
     "output_type": "display_data"
    },
    {
     "name": "stdout",
     "output_type": "stream",
     "text": [
      "----------------------------------------\n",
      "Result: for glyph00036 -> '?'\n"
     ]
    },
    {
     "data": {
      "image/png": "[encoded data removed]",
      "text/plain": [
       "<PIL.Image.Image image mode=P size=87x200 at 0x7F9EAC27D390>"
      ]
     },
     "metadata": {},
     "output_type": "display_data"
    },
    {
     "name": "stdout",
     "output_type": "stream",
     "text": [
      "----------------------------------------\n",
      "Result: for glyph00037 -> 'J'\n"
     ]
    },
    {
     "data": {
      "image/png": "[encoded data removed]",
      "text/plain": [
       "<PIL.Image.Image image mode=P size=51x200 at 0x7F9EAC27D390>"
      ]
     },
     "metadata": {},
     "output_type": "display_data"
    },
    {
     "name": "stdout",
     "output_type": "stream",
     "text": [
      "----------------------------------------\n",
      "Result: for glyph00038 -> 'W'\n"
     ]
    },
    {
     "data": {
      "image/png": "[encoded data removed]",
      "text/plain": [
       "<PIL.Image.Image image mode=P size=189x200 at 0x7F9EAC27D390>"
      ]
     },
     "metadata": {},
     "output_type": "display_data"
    },
    {
     "name": "stdout",
     "output_type": "stream",
     "text": [
      "----------------------------------------\n",
      "Result: for glyph00039 -> 'B'\n"
     ]
    },
    {
     "data": {
      "image/png": "[encoded data removed]",
      "text/plain": [
       "<PIL.Image.Image image mode=P size=132x200 at 0x7F9EAC27D390>"
      ]
     },
     "metadata": {},
     "output_type": "display_data"
    },
    {
     "name": "stdout",
     "output_type": "stream",
     "text": [
      "----------------------------------------\n",
      "Result: for glyph00040 -> 'H'\n"
     ]
    },
    {
     "data": {
      "image/png": "[encoded data removed]",
      "text/plain": [
       "<PIL.Image.Image image mode=P size=151x200 at 0x7F9EAC27D390>"
      ]
     },
     "metadata": {},
     "output_type": "display_data"
    },
    {
     "name": "stdout",
     "output_type": "stream",
     "text": [
      "----------------------------------------\n",
      "Result: for glyph00041 -> 'S'\n"
     ]
    },
    {
     "data": {
      "image/png": "[encoded data removed]",
      "text/plain": [
       "<PIL.Image.Image image mode=P size=112x200 at 0x7F9EAC27D390>"
      ]
     },
     "metadata": {},
     "output_type": "display_data"
    },
    {
     "name": "stdout",
     "output_type": "stream",
     "text": [
      "----------------------------------------\n",
      "Result: for glyph00042 -> 'E'\n"
     ]
    },
    {
     "data": {
      "image/png": "[encoded data removed]",
      "text/plain": [
       "<PIL.Image.Image image mode=P size=122x200 at 0x7F9EAC27D390>"
      ]
     },
     "metadata": {},
     "output_type": "display_data"
    },
    {
     "name": "stdout",
     "output_type": "stream",
     "text": [
      "----------------------------------------\n",
      "Result: for glyph00043 -> ''\n"
     ]
    },
    {
     "data": {
      "image/png": "[encoded data removed]",
      "text/plain": [
       "<PIL.Image.Image image mode=P size=54x200 at 0x7F9EAC27D390>"
      ]
     },
     "metadata": {},
     "output_type": "display_data"
    },
    {
     "name": "stdout",
     "output_type": "stream",
     "text": [
      "----------------------------------------\n",
      "Result: for glyph00044 -> 'F'\n"
     ]
    },
    {
     "data": {
      "image/png": "[encoded data removed]",
      "text/plain": [
       "<PIL.Image.Image image mode=P size=105x200 at 0x7F9EAC27D390>"
      ]
     },
     "metadata": {},
     "output_type": "display_data"
    },
    {
     "name": "stdout",
     "output_type": "stream",
     "text": [
      "----------------------------------------\n",
      "Result: for glyph00045 -> ''\n"
     ]
    },
    {
     "data": {
      "image/png": "[encoded data removed]",
      "text/plain": [
       "<PIL.Image.Image image mode=P size=159x200 at 0x7F9EAC27D390>"
      ]
     },
     "metadata": {},
     "output_type": "display_data"
    },
    {
     "name": "stdout",
     "output_type": "stream",
     "text": [
      "----------------------------------------\n",
      "Result: for glyph00046 -> 'J'\n"
     ]
    },
    {
     "data": {
      "image/png": "[encoded data removed]",
      "text/plain": [
       "<PIL.Image.Image image mode=P size=54x200 at 0x7F9EAC27D390>"
      ]
     },
     "metadata": {},
     "output_type": "display_data"
    },
    {
     "name": "stdout",
     "output_type": "stream",
     "text": [
      "----------------------------------------\n",
      "Result: for glyph00047 -> '*'\n"
     ]
    },
    {
     "data": {
      "image/png": "[encoded data removed]",
      "text/plain": [
       "<PIL.Image.Image image mode=P size=113x200 at 0x7F9EAC27D390>"
      ]
     },
     "metadata": {},
     "output_type": "display_data"
    },
    {
     "name": "stdout",
     "output_type": "stream",
     "text": [
      "----------------------------------------\n",
      "Result: for glyph00048 -> 'X'\n"
     ]
    },
    {
     "data": {
      "image/png": "[encoded data removed]",
      "text/plain": [
       "<PIL.Image.Image image mode=P size=107x200 at 0x7F9EAC27D390>"
      ]
     },
     "metadata": {},
     "output_type": "display_data"
    },
    {
     "name": "stdout",
     "output_type": "stream",
     "text": [
      "----------------------------------------\n",
      "Result: for glyph00049 -> '3'\n"
     ]
    },
    {
     "data": {
      "image/png": "[encoded data removed]",
      "text/plain": [
       "<PIL.Image.Image image mode=P size=117x200 at 0x7F9EAC27D390>"
      ]
     },
     "metadata": {},
     "output_type": "display_data"
    },
    {
     "name": "stdout",
     "output_type": "stream",
     "text": [
      "----------------------------------------\n",
      "Result: for glyph00050 -> 'Y'\n"
     ]
    },
    {
     "data": {
      "image/png": "[encoded data removed]",
      "text/plain": [
       "<PIL.Image.Image image mode=P size=114x200 at 0x7F9EAC27D390>"
      ]
     },
     "metadata": {},
     "output_type": "display_data"
    },
    {
     "name": "stdout",
     "output_type": "stream",
     "text": [
      "----------------------------------------\n",
      "Result: for glyph00051 -> 'Z'\n"
     ]
    },
    {
     "data": {
      "image/png": "[encoded data removed]",
      "text/plain": [
       "<PIL.Image.Image image mode=P size=95x200 at 0x7F9EAC27D390>"
      ]
     },
     "metadata": {},
     "output_type": "display_data"
    },
    {
     "name": "stdout",
     "output_type": "stream",
     "text": [
      "----------------------------------------\n",
      "Result: for glyph00052 -> 'L'\n"
     ]
    },
    {
     "data": {
      "image/png": "[encoded data removed]",
      "text/plain": [
       "<PIL.Image.Image image mode=P size=106x200 at 0x7F9EAC27D390>"
      ]
     },
     "metadata": {},
     "output_type": "display_data"
    },
    {
     "name": "stdout",
     "output_type": "stream",
     "text": [
      "----------------------------------------\n",
      "Result: for glyph00053 -> ''\n"
     ]
    },
    {
     "data": {
      "image/png": "[encoded data removed]",
      "text/plain": [
       "<PIL.Image.Image image mode=P size=123x200 at 0x7F9EAC27D390>"
      ]
     },
     "metadata": {},
     "output_type": "display_data"
    },
    {
     "name": "stdout",
     "output_type": "stream",
     "text": [
      "----------------------------------------\n",
      "Result: for glyph00054 -> ''\n"
     ]
    },
    {
     "data": {
      "image/png": "[encoded data removed]",
      "text/plain": [
       "<PIL.Image.Image image mode=P size=65x200 at 0x7F9EAC27D390>"
      ]
     },
     "metadata": {},
     "output_type": "display_data"
    },
    {
     "name": "stdout",
     "output_type": "stream",
     "text": [
      "----------------------------------------\n",
      "Result: for glyph00055 -> 'X'\n"
     ]
    },
    {
     "data": {
      "image/png": "[encoded data removed]",
      "text/plain": [
       "<PIL.Image.Image image mode=P size=118x200 at 0x7F9EAC27D390>"
      ]
     },
     "metadata": {},
     "output_type": "display_data"
    },
    {
     "name": "stdout",
     "output_type": "stream",
     "text": [
      "----------------------------------------\n",
      "Result: for glyph00056 -> '1'\n"
     ]
    },
    {
     "data": {
      "image/png": "[encoded data removed]",
      "text/plain": [
       "<PIL.Image.Image image mode=P size=117x200 at 0x7F9EAC27D390>"
      ]
     },
     "metadata": {},
     "output_type": "display_data"
    },
    {
     "name": "stdout",
     "output_type": "stream",
     "text": [
      "----------------------------------------\n",
      "Result: for glyph00057 -> ''\n"
     ]
    },
    {
     "data": {
      "image/png": "[encoded data removed]",
      "text/plain": [
       "<PIL.Image.Image image mode=P size=54x200 at 0x7F9EAC27D390>"
      ]
     },
     "metadata": {},
     "output_type": "display_data"
    },
    {
     "name": "stdout",
     "output_type": "stream",
     "text": [
      "----------------------------------------\n"
     ]
    }
   ],
   "source": [
    "glyph_map = {}\n",
    "\n",
    "images.sort(key=lambda x: (x[1], x))\n",
    "\n",
    "for idx, tup in enumerate(images):\n",
    "\timage, glyphName, glyph = tup\n",
    "\trec = pytesseract.image_to_string(image, config=\"-psm 10\")\n",
    "\tprint(\"Result: for %s -> '%s'\" % (glyphName, rec))\n",
    "\tdisplay(image.resize((int(image.size[0] * 0.1), int(image.size[1] * 0.1))))\n",
    "\t\n",
    "\tprint(\"----------------------------------------\")\n",
    "\tkey = flatten_coords(glyph._glyph)\n",
    "\n",
    "\tglyph_map[key] = (rec, glyphName)\n"
   ]
  },
  {
   "cell_type": "code",
   "execution_count": 7,
   "metadata": {
    "scrolled": true
   },
   "outputs": [
    {
     "name": "stdout",
     "output_type": "stream",
     "text": [
      "\t\t{\n",
      "\t\t\t(\n",
      "\t\t\t\t(193, 0), (193, 1462), (297, 104), (297, 1358), (930, 104), \n",
      "\t\t\t\t(930, 1358), (1034, 0), (1034, 1462), \n",
      "\t\t\t)\n",
      "\t\t\t: '',  # ('', 'glyph00000')\n",
      "\t\t\t(\n",
      "\t\t\t\t(115, 276), (115, 804), (287, 518), (291, 653), (292, 325), \n",
      "\t\t\t\t(305, 805), (376, 1116), (396, -20), (462, 977), (477, 125), \n",
      "\t\t\t\t(594, 977), (596, 1116), (639, -20), (645, 125), (724, 977), \n",
      "\t\t\t\t(750, -20), (802, 1116), (822, 125), (864, 653), (864, 810), \n",
      "\t\t\t\t(907, 13), (995, 51), (995, 199), (1042, 518), (1042, 623), \n",
      "\t\t\t\t(1042, 845), \n",
      "\t\t\t)\n",
      "\t\t\t: 'e',  # ('e', 'glyph00001')\n",
      "\t\t\t(\n",
      "\t\t\t\t(31, 967), (31, 1047), (188, -20), (188, 315), (188, 967), \n",
      "\t\t\t\t(188, 1116), (258, 1350), (354, 223), (354, 322), (354, 967), \n",
      "\t\t\t\t(354, 1096), (354, 1350), (448, 117), (506, -20), (530, 117), \n",
      "\t\t\t\t(548, -20), (574, 117), (653, -3), (656, 130), (672, 967), \n",
      "\t\t\t\t(672, 1096), (680, 10), (680, 137), \n",
      "\t\t\t)\n",
      "\t\t\t: 't',  # ('t', 'glyph00002')\n",
      "\t\t\t(\n",
      "\t\t\t\t(94, 148), (94, 303), (94, 635), (217, 1020), (268, 211), \n",
      "\t\t\t\t(268, 301), (268, 416), (268, 893), (279, -20), (298, 1064), \n",
      "\t\t\t\t(377, 117), (441, 977), (442, -20), (443, 525), (475, 117), \n",
      "\t\t\t\t(491, 1114), (564, -20), (578, 977), (588, 1114), (625, 651), \n",
      "\t\t\t\t(630, 117), (641, 532), (700, 977), (727, 53), (784, 1114), \n",
      "\t\t\t\t(807, 287), (807, 440), (807, 539), (809, 156), (811, 657), \n",
      "\t\t\t\t(811, 725), (811, 854), (817, 156), (850, 0), (973, 0), \n",
      "\t\t\t\t(973, 748), (973, 940), \n",
      "\t\t\t)\n",
      "\t\t\t: 'a',  # ('a', 'glyph00003')\n",
      "\t\t\t(\n",
      "\t\t\t\t(115, 376), (115, 549), (115, 817), (239, 118), (287, 339), \n",
      "\t\t\t\t(287, 549), (287, 761), (383, 1116), (453, 975), (455, 119), \n",
      "\t\t\t\t(467, -20), (614, -20), (621, 1116), (781, 119), (781, 975), \n",
      "\t\t\t\t(851, 1116), (852, -20), (950, 338), (950, 758), (1122, 281), \n",
      "\t\t\t\t(1122, 549), (1122, 810), \n",
      "\t\t\t)\n",
      "\t\t\t: '',  # ('', 'glyph00004')\n",
      "\t\t\t(\n",
      "\t\t\t\t(176, 0), (176, 1096), (311, 1096), (338, 946), (342, 0), \n",
      "\t\t\t\t(342, 575), (342, 789), (346, 946), (397, 1027), (502, 975), \n",
      "\t\t\t\t(581, 1116), (674, 975), (694, 1116), (804, 975), (892, 1116), \n",
      "\t\t\t\t(926, 0), (926, 709), (926, 843), (1092, 0), (1092, 715), \n",
      "\t\t\t\t(1092, 925), \n",
      "\t\t\t)\n",
      "\t\t\t: 'n',  # ('n', 'glyph00005')\n",
      "\t\t\t(\n",
      "\t\t\t\t(162, 1337), (162, 1393), (162, 1450), (176, 0), (176, 1096), \n",
      "\t\t\t\t(218, 1282), (218, 1503), (300, 1282), (300, 1503), (342, 0), \n",
      "\t\t\t\t(342, 1096), (358, 1337), (358, 1449), \n",
      "\t\t\t)\n",
      "\t\t\t: '',  # ('', 'glyph00006')\n",
      "\t\t\t(\n",
      "\t\t\t\t(106, 752), (106, 827), (106, 961), (109, 49), (109, 203), \n",
      "\t\t\t\t(169, 644), (188, 163), (231, -20), (264, 794), (264, 838), \n",
      "\t\t\t\t(264, 903), (298, 559), (309, 732), (324, 1116), (369, 117), \n",
      "\t\t\t\t(384, 977), (409, 676), (449, -20), (451, 502), (453, 117), \n",
      "\t\t\t\t(502, 977), (514, 1116), (551, 623), (583, 117), (612, 440), \n",
      "\t\t\t\t(636, 977), (655, -20), (691, 1116), (723, 200), (723, 285), \n",
      "\t\t\t\t(723, 349), (746, 552), (801, 909), (860, 1044), (883, 146), \n",
      "\t\t\t\t(883, 299), (883, 408), \n",
      "\t\t\t)\n",
      "\t\t\t: 'S',  # ('S', 'glyph00007')\n",
      "\t\t\t(\n",
      "\t\t\t\t(176, 0), (176, 1556), (334, 944), (342, 0), (342, 573), \n",
      "\t\t\t\t(342, 787), (342, 1000), (342, 1085), (342, 1556), (344, 944), \n",
      "\t\t\t\t(393, 1023), (501, 975), (574, 1114), (674, 975), (690, 1114), \n",
      "\t\t\t\t(804, 975), (891, 1114), (926, 0), (926, 709), (926, 843), \n",
      "\t\t\t\t(1092, 0), (1092, 715), (1092, 923), \n",
      "\t\t\t)\n",
      "\t\t\t: 'h',  # ('h', 'glyph00008')\n",
      "\t\t\t(\n",
      "\t\t\t\t(176, 0), (176, 1096), (313, 1096), (332, 893), (340, 893), \n",
      "\t\t\t\t(342, 0), (342, 588), (342, 749), (401, 1000), (531, 965), \n",
      "\t\t\t\t(573, 1116), (664, 965), (676, 1116), (716, 965), (749, 1116), \n",
      "\t\t\t\t(784, 950), (807, 1104), \n",
      "\t\t\t)\n",
      "\t\t\t: 'r',  # ('r', 'glyph00009')\n",
      "\t\t\t(\n",
      "\t\t\t\t(176, 0), (176, 1556), (342, 0), (342, 1556), \n",
      "\t\t\t)\n",
      "\t\t\t: '',  # ('', 'glyph00010')\n",
      "\t\t\t(\n",
      "\t\t\t\t(115, 274), (115, 816), (287, 333), (287, 543), (287, 750), \n",
      "\t\t\t\t(354, -20), (355, 1116), (441, 119), (442, 977), (569, -20), \n",
      "\t\t\t\t(569, 1116), (588, 977), (590, 119), (758, 977), (760, 119), \n",
      "\t\t\t\t(792, 1116), (798, -20), (911, 954), (913, 147), (913, 304), \n",
      "\t\t\t\t(913, 510), (913, 545), (913, 778), (913, 1110), (913, 1556), \n",
      "\t\t\t\t(917, 1033), (922, 147), (924, 954), (944, 0), (1079, 0), \n",
      "\t\t\t\t(1079, 1556), \n",
      "\t\t\t)\n",
      "\t\t\t: 'd',  # ('d', 'glyph00011')\n",
      "\t\t\t(\n",
      "\t\t\t\t(164, 170), (164, 379), (164, 1096), (332, 251), (332, 385), \n",
      "\t\t\t\t(332, 1096), (363, -20), (454, 119), (563, -20), (584, 119), \n",
      "\t\t\t\t(679, -20), (756, 119), (860, 66), (911, 147), (915, 307), \n",
      "\t\t\t\t(915, 520), (915, 1096), (920, 147), (944, 0), (1081, 0), \n",
      "\t\t\t\t(1081, 1096), \n",
      "\t\t\t)\n",
      "\t\t\t: 'U',  # ('U', 'glyph00012')\n",
      "\t\t\t(\n",
      "\t\t\t\t(176, 0), (176, 1096), (311, 1096), (338, 946), (342, 0), \n",
      "\t\t\t\t(342, 575), (342, 788), (346, 946), (393, 1026), (487, 975), \n",
      "\t\t\t\t(564, 1116), (643, 975), (670, 1116), (762, 975), (874, 0), \n",
      "\t\t\t\t(874, 713), (874, 844), (927, 1116), (1006, 930), (1014, 930), \n",
      "\t\t\t\t(1040, 0), (1040, 612), (1040, 797), (1063, 1016), (1188, 975), \n",
      "\t\t\t\t(1249, 1116), (1343, 975), (1368, 1116), (1461, 975), (1554, 1116), \n",
      "\t\t\t\t(1573, 0), (1573, 713), (1573, 844), (1739, 0), (1739, 715), \n",
      "\t\t\t\t(1739, 925), \n",
      "\t\t\t)\n",
      "\t\t\t: 'm',  # ('m', 'glyph00013')\n",
      "\t\t\t(\n",
      "\t\t\t\t(39, -332), (39, -186), (39, -86), (125, 633), (125, 741), \n",
      "\t\t\t\t(125, 921), (167, 60), (184, 185), (184, 238), (184, 298), \n",
      "\t\t\t\t(199, -273), (199, -184), (199, -83), (232, 465), (241, 105), \n",
      "\t\t\t\t(248, 388), (272, -492), (283, 86), (289, 630), (289, 745), \n",
      "\t\t\t\t(289, 869), (317, 430), (325, 25), (332, 217), (332, 262), \n",
      "\t\t\t\t(332, 347), (341, 1116), (349, -365), (406, 174), (415, 995), \n",
      "\t\t\t\t(419, 512), (438, 25), (438, 403), (481, 395), (487, -492), \n",
      "\t\t\t\t(489, -365), (496, 174), (530, 395), (532, 995), (535, 512), \n",
      "\t\t\t\t(539, 1116), (625, 1116), (637, 25), (690, 174), (694, 1096), \n",
      "\t\t\t\t(698, -365), (722, 395), (767, -492), (778, 512), (778, 748), \n",
      "\t\t\t\t(778, 995), (789, 25), (868, 174), (870, 967), (898, 932), \n",
      "\t\t\t\t(899, -240), (899, -133), (899, -44), (942, 587), (942, 748), \n",
      "\t\t\t\t(942, 819), (1059, -301), (1059, -119), (1059, 24), (1073, 991), \n",
      "\t\t\t\t(1073, 1096), \n",
      "\t\t\t)\n",
      "\t\t\t: 'g',  # ('g', 'glyph00014')\n",
      "\t\t\t(\n",
      "\t\t\t\t(2, 1096), (16, -475), (16, -342), (71, -354), (90, -492), \n",
      "\t\t\t\t(139, -354), (166, -492), (180, 1096), (302, -492), (310, -354), \n",
      "\t\t\t\t(383, -162), (420, 471), (444, -6), (489, -337), (499, 257), \n",
      "\t\t\t\t(518, 162), (526, 162), (539, 213), (559, -152), (622, 460), \n",
      "\t\t\t\t(852, 1096), (1030, 1096), \n",
      "\t\t\t)\n",
      "\t\t\t: 'y',  # ('y', 'glyph00015')\n",
      "\t\t\t(\n",
      "\t\t\t\t(115, 273), (115, 541), (115, 816), (287, 341), (287, 543), \n",
      "\t\t\t\t(287, 969), (376, -20), (380, 1116), (450, 125), (610, 125), \n",
      "\t\t\t\t(614, -20), (621, 969), (625, 1116), (671, 969), (704, 1116), \n",
      "\t\t\t\t(747, 125), (781, -20), (801, 940), (856, 918), (862, 1082), \n",
      "\t\t\t\t(891, 37), (891, 184), (907, 1059), \n",
      "\t\t\t)\n",
      "\t\t\t: 'C',  # ('C', 'glyph00016')\n",
      "\t\t\t(\n",
      "\t\t\t\t(29, 967), (29, 1042), (225, 0), (225, 967), (225, 1102), \n",
      "\t\t\t\t(225, 1163), (225, 1567), (391, 0), (391, 967), (391, 1096), \n",
      "\t\t\t\t(391, 1167), (391, 1305), (481, 1430), (575, 1430), (578, 1567), \n",
      "\t\t\t\t(643, 1430), (665, 1567), (670, 967), (670, 1096), (739, 1399), \n",
      "\t\t\t\t(782, 1532), \n",
      "\t\t\t)\n",
      "\t\t\t: 'f',  # ('f', 'glyph00017')\n",
      "\t\t\t(\n",
      "\t\t\t\t(23, 1096), (197, 1096), (322, 0), (359, 467), (414, 251), \n",
      "\t\t\t\t(422, 176), (430, 176), (441, 233), (490, 414), (508, 467), \n",
      "\t\t\t\t(514, 0), (709, 1096), (721, 641), (751, 736), (791, 911), \n",
      "\t\t\t\t(799, 911), (851, 702), (870, 643), (889, 1096), (1071, 0), \n",
      "\t\t\t\t(1085, 467), (1141, 295), (1161, 178), (1169, 178), (1173, 214), \n",
      "\t\t\t\t(1208, 364), (1268, 0), (1399, 1096), (1571, 1096), \n",
      "\t\t\t)\n",
      "\t\t\t: 'W',  # ('W', 'glyph00018')\n",
      "\t\t\t(\n",
      "\t\t\t\t(176, -492), (176, 1096), (311, 1096), (330, 141), (334, 946), \n",
      "\t\t\t\t(342, -492), (342, -41), (342, 45), (342, 141), (342, 318), \n",
      "\t\t\t\t(342, 549), (342, 586), (342, 946), (344, 789), (402, 59), \n",
      "\t\t\t\t(406, 1036), (494, 975), (496, 119), (576, 1116), (579, -20), \n",
      "\t\t\t\t(662, 975), (666, 119), (686, -20), (686, 1116), (808, 119), \n",
      "\t\t\t\t(808, 975), (900, -20), (904, 1116), (969, 349), (969, 551), \n",
      "\t\t\t\t(969, 756), (1141, 279), (1141, 818), \n",
      "\t\t\t)\n",
      "\t\t\t: 'P',  # ('P', 'glyph00019')\n",
      "\t\t\t(\n",
      "\t\t\t\t(152, 34), (152, 106), (152, 173), (213, 242), (219, -29), \n",
      "\t\t\t\t(270, -29), (327, -29), (328, 242), (393, 41), (393, 173), \n",
      "\n",
      "\t\t\t)\n",
      "\t\t\t: '',  # ('', 'glyph00020')\n",
      "\t\t\t(\n",
      "\t\t\t\t(176, 0), (176, 1556), (295, 0), (330, 141), (334, 950), \n",
      "\t\t\t\t(342, 141), (342, 318), (342, 780), (342, 950), (342, 1051), \n",
      "\t\t\t\t(342, 1178), (342, 1556), (402, 59), (458, 1114), (492, 975), \n",
      "\t\t\t\t(496, 119), (579, -20), (662, 975), (666, 119), (686, -20), \n",
      "\t\t\t\t(686, 1114), (819, 119), (819, 975), (900, -20), (902, 1114), \n"
     ]
    },
    {
     "name": "stdout",
     "output_type": "stream",
     "text": [
      "\t\t\t\t(969, 342), (969, 551), (969, 765), (1141, 279), (1141, 819), \n",
      "\n",
      "\t\t\t)\n",
      "\t\t\t: 'b',  # ('b', 'glyph00021')\n",
      "\t\t\t(\n",
      "\t\t\t\t(63, -264), (90, -160), (155, 146), (168, 238), (188, -264), \n",
      "\t\t\t\t(241, -150), (339, 115), (350, 238), (365, 215), \n",
      "\t\t\t)\n",
      "\t\t\t: 'I',  # ('I', 'glyph00022')\n",
      "\t\t\t(\n",
      "\t\t\t\t(176, 0), (176, 1556), (332, 561), (340, 0), (340, 410), \n",
      "\t\t\t\t(340, 561), (340, 676), (340, 731), (340, 1556), (383, 622), \n",
      "\t\t\t\t(465, 518), (471, 721), (578, 629), (825, 1096), (852, 0), \n",
      "\t\t\t\t(1022, 1096), (1053, 0), \n",
      "\t\t\t)\n",
      "\t\t\t: 'k',  # ('k', 'glyph00023')\n",
      "\t\t\t(\n",
      "\t\t\t\t(0, 1096), (178, 1096), (414, 446), (416, 0), (494, 218), \n",
      "\t\t\t\t(508, 150), (516, 150), (527, 203), (610, 0), (644, 536), \n",
      "\t\t\t\t(848, 1096), (1026, 1096), \n",
      "\t\t\t)\n",
      "\t\t\t: 'V',  # ('V', 'glyph00024')\n",
      "\t\t\t(\n",
      "\t\t\t\t(125, 372), (125, 733), (125, 959), (294, 1299), (307, 444), \n",
      "\t\t\t\t(307, 731), (307, 1010), (476, -20), (576, 131), (586, 1331), \n",
      "\t\t\t\t(613, 1483), (799, -20), (825, 131), (827, 1331), (829, 1483), \n",
      "\t\t\t\t(978, 131), (993, 1331), (1022, -20), (1059, 1483), (1159, 1253), \n",
      "\t\t\t\t(1174, 37), (1174, 186), (1231, 1399), \n",
      "\t\t\t)\n",
      "\t\t\t: 'C',  # ('C', 'glyph00025')\n",
      "\t\t\t(\n",
      "\t\t\t\t(133, 1462), (174, 934), (279, 934), (319, 1462), (502, 1462), \n",
      "\t\t\t\t(543, 934), (647, 934), (688, 1462), \n",
      "\t\t\t)\n",
      "\t\t\t: '',  # ('', 'glyph00026')\n",
      "\t\t\t(\n",
      "\t\t\t\t(18, 1311), (18, 1462), (481, 0), (481, 1311), (651, 0), \n",
      "\t\t\t\t(651, 1311), (1114, 1311), (1114, 1462), \n",
      "\t\t\t)\n",
      "\t\t\t: 'T',  # ('T', 'glyph00027')\n",
      "\t\t\t(\n",
      "\t\t\t\t(201, 0), (201, 1462), (371, 147), (371, 1315), (578, 147), \n",
      "\t\t\t\t(606, 0), (618, 1315), (649, 1462), (882, 147), (901, 1315), \n",
      "\t\t\t\t(975, 0), (990, 1462), (1188, 446), (1188, 739), (1188, 1025), \n",
      "\t\t\t\t(1368, 383), (1368, 745), (1368, 1084), \n",
      "\t\t\t)\n",
      "\t\t\t: 'D',  # ('D', 'glyph00028')\n",
      "\t\t\t(\n",
      "\t\t\t\t(82, 0), (82, 133), (106, 1309), (106, 1462), (289, 154), \n",
      "\t\t\t\t(858, 1309), (1065, 1329), (1065, 1462), (1087, 0), (1087, 154), \n",
      "\n",
      "\t\t\t)\n",
      "\t\t\t: 'Z',  # ('Z', 'glyph00029')\n",
      "\t\t\t(\n",
      "\t\t\t\t(201, 0), (201, 1462), (371, 0), (371, 1462), \n",
      "\t\t\t)\n",
      "\t\t\t: '',  # ('', 'glyph00030')\n",
      "\t\t\t(\n",
      "\t\t\t\t(133, 1462), (174, 934), (279, 934), (319, 1462), \n",
      "\t\t\t)\n",
      "\t\t\t: '',  # ('', 'glyph00031')\n",
      "\t\t\t(\n",
      "\t\t\t\t(115, 278), (115, 814), (287, 336), (287, 750), (353, -20), \n",
      "\t\t\t\t(355, 1116), (440, 119), (442, 977), (565, -20), (569, 1116), \n",
      "\t\t\t\t(588, 977), (590, 119), (756, 119), (757, 977), (794, 1116), \n",
      "\t\t\t\t(796, -20), (908, 297), (911, 147), (913, -492), (913, -23), \n",
      "\t\t\t\t(913, 77), (913, 508), (913, 545), (913, 775), (915, 946), \n",
      "\t\t\t\t(924, 147), (924, 946), (948, 1096), (1079, -492), (1079, 1096), \n",
      "\n",
      "\t\t\t)\n",
      "\t\t\t: 'q',  # ('q', 'glyph00032')\n",
      "\t\t\t(\n",
      "\t\t\t\t(201, 0), (201, 1462), (342, 1227), (350, 1227), (358, 0), \n",
      "\t\t\t\t(358, 831), (358, 1011), (393, 1462), (1149, 0), (1182, 560), \n",
      "\t\t\t\t(1184, 623), (1184, 1462), (1190, 240), (1196, 267), (1198, 240), \n",
      "\t\t\t\t(1343, 0), (1343, 1462), \n",
      "\t\t\t)\n",
      "\t\t\t: 'N',  # ('N', 'glyph00033')\n",
      "\t\t\t(\n",
      "\t\t\t\t(201, 0), (201, 1462), (344, 1296), (352, 1296), (358, 0), \n",
      "\t\t\t\t(358, 930), (358, 1142), (457, 1462), (848, 0), (920, 256), \n",
      "\t\t\t\t(928, 256), (985, 0), (1395, 1462), (1479, 0), (1479, 942), \n",
      "\t\t\t\t(1479, 1104), (1485, 1294), (1493, 1294), (1649, 0), (1649, 1462), \n",
      "\n",
      "\t\t\t)\n",
      "\t\t\t: 'M',  # ('M', 'glyph00034')\n",
      "\t\t\t(\n",
      "\t\t\t\t(0, 0), (172, 0), (352, 465), (412, 618), (578, 1468), \n",
      "\t\t\t\t(584, 1071), (625, 1186), (647, 1282), (682, 1157), (715, 1071), \n",
      "\t\t\t\t(721, 1468), (885, 618), (938, 465), (1120, 0), (1296, 0), \n",
      "\n",
      "\t\t\t)\n",
      "\t\t\t: '',  # ('', 'glyph00035')\n",
      "\t\t\t(\n",
      "\t\t\t\t(27, 1384), (86, 1249), (183, 1298), (216, 1483), (240, 34), \n",
      "\t\t\t\t(240, 106), (240, 242), (289, 403), (289, 457), (289, 574), \n",
      "\t\t\t\t(308, -29), (333, 1335), (360, -29), (360, 242), (361, 725), \n",
      "\t\t\t\t(412, 1335), (417, -29), (418, 242), (418, 403), (418, 436), \n",
      "\t\t\t\t(418, 531), (422, 1483), (459, 809), (481, 42), (481, 172), \n",
      "\t\t\t\t(483, 645), (535, 1335), (584, 731), (595, 924), (613, 1483), \n",
      "\t\t\t\t(666, 1040), (666, 1122), (666, 1224), (710, 841), (786, 940), \n",
      "\t\t\t\t(825, 1051), (825, 1124), (825, 1295), \n",
      "\t\t\t)\n",
      "\t\t\t: '?',  # ('?', 'glyph00036')\n",
      "\t\t\t(\n",
      "\t\t\t\t(-111, -467), (-111, -332), (-52, -492), (-42, -352), (25, -352), \n",
      "\t\t\t\t(43, -492), (103, -352), (162, 1337), (162, 1393), (162, 1450), \n",
      "\t\t\t\t(176, -267), (176, -180), (176, 1096), (218, 1282), (218, 1503), \n",
      "\t\t\t\t(300, 1282), (300, 1503), (342, -492), (342, -168), (342, 1096), \n",
      "\t\t\t\t(358, 1337), (358, 1449), \n",
      "\t\t\t)\n",
      "\t\t\t: 'J',  # ('J', 'glyph00037')\n",
      "\t\t\t(\n",
      "\t\t\t\t(27, 1462), (207, 1462), (416, 0), (438, 559), (486, 369), \n",
      "\t\t\t\t(508, 215), (535, 398), (584, 0), (588, 573), (850, 1462), \n",
      "\t\t\t\t(870, 973), (918, 1130), (940, 1262), (941, 1242), (993, 1044), \n",
      "\t\t\t\t(1014, 979), (1030, 1462), (1305, 565), (1309, 0), (1353, 410), \n",
      "\t\t\t\t(1386, 215), (1405, 357), (1458, 561), (1477, 0), (1688, 1462), \n",
      "\t\t\t\t(1868, 1462), \n",
      "\t\t\t)\n",
      "\t\t\t: 'W',  # ('W', 'glyph00038')\n",
      "\t\t\t(\n",
      "\t\t\t\t(201, 0), (201, 1462), (371, 145), (371, 692), (371, 836), \n",
      "\t\t\t\t(371, 1315), (614, 1462), (621, 1315), (651, 836), (662, 692), \n",
      "\t\t\t\t(676, 145), (711, 0), (813, 1315), (831, 836), (849, 692), \n",
      "\t\t\t\t(853, 145), (881, 766), (881, 776), (905, 1462), (949, 0), \n",
      "\t\t\t\t(989, 949), (989, 1083), (989, 1206), (1020, 801), (1032, 282), \n",
      "\t\t\t\t(1032, 428), (1032, 564), (1165, 970), (1165, 1100), (1165, 1288), \n",
      "\t\t\t\t(1214, 220), (1214, 416), (1214, 709), \n",
      "\t\t\t)\n",
      "\t\t\t: 'B',  # ('B', 'glyph00039')\n",
      "\t\t\t(\n",
      "\t\t\t\t(201, 0), (201, 1462), (371, 0), (371, 688), (371, 840), \n",
      "\t\t\t\t(371, 1462), (1141, 0), (1141, 688), (1141, 840), (1141, 1462), \n",
      "\t\t\t\t(1311, 0), (1311, 1462), \n",
      "\t\t\t)\n",
      "\t\t\t: 'H',  # ('H', 'glyph00040')\n",
      "\t\t\t(\n",
      "\t\t\t\t(106, 47), (106, 211), (125, 953), (125, 1114), (125, 1283), \n",
      "\t\t\t\t(196, 173), (246, -20), (297, 1036), (297, 1112), (297, 1215), \n",
      "\t\t\t\t(300, 753), (353, 939), (379, 1483), (408, 129), (449, 1331), \n",
      "\t\t\t\t(486, 858), (504, 680), (506, -20), (512, 129), (584, 1331), \n",
      "\t\t\t\t(588, 1483), (623, 809), (650, 628), (682, 129), (746, -20), \n",
      "\t\t\t\t(755, 1331), (793, 546), (806, 1483), (853, 727), (854, 258), \n",
      "\t\t\t\t(854, 373), (854, 449), (936, 1255), (989, 1403), (1026, 196), \n",
      "\t\t\t\t(1026, 389), (1026, 539), \n",
      "\t\t\t)\n",
      "\t\t\t: 'S',  # ('S', 'glyph00041')\n",
      "\t\t\t(\n",
      "\t\t\t\t(201, 0), (201, 1462), (371, 152), (371, 690), (371, 840), \n",
      "\t\t\t\t(371, 1311), (977, 690), (977, 840), (1016, 0), (1016, 152), \n",
      "\t\t\t\t(1016, 1311), (1016, 1462), \n",
      "\t\t\t)\n",
      "\t\t\t: 'E',  # ('E', 'glyph00042')\n",
      "\t\t\t(\n",
      "\t\t\t\t(152, 34), (152, 106), (152, 242), (170, 1462), (220, -29), \n",
      "\t\t\t\t(221, 403), (272, -29), (272, 242), (326, 403), (329, -29), \n",
      "\t\t\t\t(330, 242), (377, 1462), (393, 42), (393, 172), \n",
      "\t\t\t)\n",
      "\t\t\t: '',  # ('', 'glyph00043')\n",
      "\t\t\t(\n",
      "\t\t\t\t(201, 0), (201, 1462), (371, 0), (371, 625), (371, 776), \n",
      "\t\t\t\t(371, 1311), (977, 625), (977, 776), (1016, 1311), (1016, 1462), \n",
      "\n",
      "\t\t\t)\n",
      "\t\t\t: 'F',  # ('F', 'glyph00044')\n",
      "\t\t\t(\n",
      "\t\t\t\t(125, 375), (125, 735), (125, 1092), (305, 436), (305, 733), \n",
      "\t\t\t\t(305, 1026), (476, -20), (477, 1485), (558, 129), (558, 1333), \n",
      "\t\t\t\t(799, -20), (801, 1485), (1042, 129), (1043, 1333), (1115, -20), \n",
      "\t\t\t\t(1116, 1485), (1290, 435), (1290, 733), (1290, 1028), (1470, 382), \n",
      "\t\t\t\t(1470, 733), (1470, 1085), \n",
      "\t\t\t)\n",
      "\t\t\t: '',  # ('', 'glyph00045')\n",
      "\t\t\t(\n",
      "\t\t\t\t(-160, -358), (-160, -213), (-106, -385), (-89, -233), (-12, -385), \n",
      "\t\t\t\t(-12, -233), (87, -233), (168, -385), (190, -113), (190, 0), \n",
      "\t\t\t\t(190, 1462), (360, -176), (360, 14), (360, 1462), \n",
      "\t\t\t)\n",
      "\t\t\t: 'J',  # ('J', 'glyph00046')\n",
      "\t\t\t(\n",
      "\t\t\t\t(86, 1090), (115, 1272), (221, 733), (397, 639), (463, 1059), \n",
      "\t\t\t\t(463, 1556), (506, 1161), (557, 1001), (614, 1161), (657, 1059), \n",
      "\t\t\t\t(657, 1556), (733, 639), (905, 733), (1012, 1272), (1038, 1090), \n",
      "\n",
      "\t\t\t)\n",
      "\t\t\t: '*',  # ('*', 'glyph00047')\n",
      "\t\t\t(\n",
      "\t\t\t\t(39, 0), (59, 1096), (227, 0), (248, 1096), (440, 561), \n",
      "\t\t\t\t(537, 444), (537, 676), (631, 561), (825, 1096), (844, 0), \n",
      "\t\t\t\t(1012, 1096), (1032, 0), \n",
      "\t\t\t)\n",
      "\t\t\t: 'X',  # ('X', 'glyph00048')\n",
      "\t\t\t(\n",
      "\t\t\t\t(94, 59), (94, 217), (102, 1331), (185, 15), (186, 1219), \n",
      "\t\t\t\t(189, 170), (192, 1402), (295, 1289), (317, 684), (317, 827), \n",
      "\t\t\t\t(378, -20), (404, 121), (427, 1483), (461, 684), (463, 827), \n",
      "\t\t\t\t(465, 1341), (494, -20), (500, 121), (557, 1483), (561, 1341), \n",
      "\t\t\t\t(634, 827), (687, 1341), (705, 762), (705, 770), (761, -20), \n",
      "\t\t\t\t(770, 1483), (834, 978), (834, 1112), (834, 1219), (849, 800), \n",
      "\t\t\t\t(879, 121), (879, 418), (879, 684), (881, 740), (1006, 978), \n",
      "\t\t\t\t(1006, 1118), (1006, 1288), (1051, 205), (1051, 414), (1051, 560), \n",
      "\n",
      "\t\t\t)\n",
      "\t\t\t: '3',  # ('3', 'glyph00049')\n",
      "\t\t\t(\n",
      "\t\t\t\t(0, 1462), (186, 1462), (487, 0), (487, 559), (573, 731), \n",
      "\t\t\t\t(659, 0), (659, 567), (963, 1462), (1147, 1462), \n"
     ]
    },
    {
     "name": "stdout",
     "output_type": "stream",
     "text": [
      "\t\t\t)\n",
      "\t\t\t: 'Y',  # ('Y', 'glyph00050')\n",
      "\t\t\t(\n",
      "\t\t\t\t(82, 0), (82, 113), (119, 967), (119, 1096), (272, 129), \n",
      "\t\t\t\t(680, 967), (862, 967), (862, 1096), (877, 0), (877, 129), \n",
      "\n",
      "\t\t\t)\n",
      "\t\t\t: 'Z',  # ('Z', 'glyph00051')\n",
      "\t\t\t(\n",
      "\t\t\t\t(201, 0), (201, 1462), (371, 154), (371, 1462), (1016, 0), \n",
      "\t\t\t\t(1016, 154), \n",
      "\t\t\t)\n",
      "\t\t\t: 'L',  # ('L', 'glyph00052')\n",
      "\t\t\t(\n",
      "\t\t\t\t(201, 0), (201, 1462), (371, 0), (371, 575), (371, 721), \n",
      "\t\t\t\t(371, 1315), (524, 721), (543, 575), (561, 1315), (580, 1462), \n",
      "\t\t\t\t(750, 721), (762, 1315), (825, 575), (952, 867), (952, 1028), \n",
      "\t\t\t\t(952, 1173), (1128, 814), (1128, 1036), (1128, 1462), \n",
      "\t\t\t)\n",
      "\t\t\t: '',  # ('', 'glyph00053')\n",
      "\t\t\t(\n",
      "\t\t\t\t(84, 473), (84, 625), (575, 473), (575, 625), \n",
      "\t\t\t)\n",
      "\t\t\t: '',  # ('', 'glyph00054')\n",
      "\t\t\t(\n",
      "\t\t\t\t(8, 0), (41, 1462), (188, 0), (229, 1462), (494, 764), \n",
      "\t\t\t\t(588, 643), (592, 883), (686, 770), (958, 1462), (981, 0), \n",
      "\t\t\t\t(1139, 1462), (1174, 0), \n",
      "\t\t\t)\n",
      "\t\t\t: 'X',  # ('X', 'glyph00055')\n",
      "\t\t\t(\n",
      "\t\t\t\t(188, 1163), (276, 1049), (488, 1221), (540, 1267), (553, 0), \n",
      "\t\t\t\t(553, 1042), (553, 1172), (561, 1288), (575, 1462), (715, 0), \n",
      "\t\t\t\t(715, 1462), \n",
      "\t\t\t)\n",
      "\t\t\t: '1',  # ('1', 'glyph00056')\n",
      "\t\t\t(\n",
      "\t\t\t\t(152, 34), (152, 106), (152, 173), (152, 917), (152, 989), \n",
      "\t\t\t\t(152, 1124), (213, 242), (219, -29), (219, 854), (270, -29), \n",
      "\t\t\t\t(270, 854), (270, 1124), (327, -29), (327, 854), (328, 242), \n",
      "\t\t\t\t(393, 41), (393, 173), (393, 924), (393, 989), (393, 1124), \n",
      "\n",
      "\t\t\t)\n",
      "\t\t\t: '',  # ('', 'glyph00057')\n",
      "\t\t}\n"
     ]
    }
   ],
   "source": [
    "gkeys = list(glyph_map.keys())\n",
    "\n",
    "gkeys.sort(key=lambda x: glyph_map[x][1])\n",
    "\n",
    "\n",
    "# print(gkeys)\n",
    "\n",
    "print(\"\t\t{\")\n",
    "for key in gkeys:\n",
    "\tprint(\"\t\t\t(\")\n",
    "\tfor idx, subtup in enumerate(key):\n",
    "\t\tif idx % 5 == 0:\n",
    "\t\t\tprint(\"\t\t\t\t\", end=\"\")\n",
    "\t\tprint(\"%s, \" % (subtup, ), end=\"\")\n",
    "\t\tif idx % 5 == 4:\n",
    "\t\t\tprint(\"\")\n",
    "\tprint()\n",
    "\tprint(\"\t\t\t)\")\n",
    "\tprint(\"\t\t\t: '%s',  # %s\" % (glyph_map[key][0], glyph_map[key]))\n",
    "print(\"\t\t}\")\n",
    "\n",
    "# print(glyph_map)\n",
    "\n",
    "\n",
    "\n",
    "\n"
   ]
  }
 ],
 "metadata": {
  "kernelspec": {
   "display_name": "Python 3",
   "language": "python",
   "name": "python3"
  },
  "language_info": {
   "codemirror_mode": {
    "name": "ipython",
    "version": 3
   },
   "file_extension": ".py",
   "mimetype": "text/x-python",
   "name": "python",
   "nbconvert_exporter": "python",
   "pygments_lexer": "ipython3",
   "version": "3.5.2"
  }
 },
 "nbformat": 4,
 "nbformat_minor": 2
}
